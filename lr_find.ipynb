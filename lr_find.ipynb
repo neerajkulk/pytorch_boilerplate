{
 "cells": [
  {
   "cell_type": "code",
   "execution_count": 19,
   "metadata": {},
   "outputs": [],
   "source": [
    "import torch\n",
    "import torchvision\n",
    "import numpy as np\n",
    "import matplotlib.pyplot as plt\n",
    "import random\n",
    "import torch.nn as nn\n",
    "import torchvision.transforms as transforms\n",
    "import torch.nn.functional as F\n",
    "import torch.optim as optim\n",
    "from tqdm import tqdm\n",
    "import pandas as pd\n",
    "import copy"
   ]
  },
  {
   "cell_type": "code",
   "execution_count": 20,
   "metadata": {},
   "outputs": [
    {
     "name": "stdout",
     "output_type": "stream",
     "text": [
      "Runnning on cpu\n"
     ]
    }
   ],
   "source": [
    "device = torch.device(\"cuda:0\" if torch.cuda.is_available() else \"cpu\")\n",
    "print(f'Runnning on {device}')\n",
    "\n",
    "transform = transforms.ToTensor()\n",
    "\n",
    "train_dset = torchvision.datasets.MNIST('../', train=True, transform=transform, target_transform=None, download=False)\n",
    "test_dset = torchvision.datasets.MNIST('../', train=False, transform=transform, target_transform=None, download=False)\n",
    "\n",
    "train_dl = torch.utils.data.DataLoader(train_dset, batch_size=32, shuffle=True, num_workers=1)\n",
    "test_dl = torch.utils.data.DataLoader(test_dset, batch_size=32, shuffle=True, num_workers=1) \n"
   ]
  },
  {
   "cell_type": "code",
   "execution_count": 23,
   "metadata": {},
   "outputs": [],
   "source": [
    "class Net(nn.Module):\n",
    "    def __init__(self):\n",
    "        super(Net, self).__init__()\n",
    "        self.fc1 = nn.Linear(28*28, 30)\n",
    "        self.fc2 = nn.Linear(30, 10)\n",
    "\n",
    "\n",
    "    def forward(self, x):\n",
    "        x = x.reshape(-1,28*28)\n",
    "        x = F.relu(self.fc1(x))\n",
    "        x = self.fc2(x)\n",
    "    \n",
    "        return x\n"
   ]
  },
  {
   "cell_type": "code",
   "execution_count": 24,
   "metadata": {},
   "outputs": [],
   "source": [
    "net = Net()\n",
    "net.to(device);"
   ]
  },
  {
   "cell_type": "code",
   "execution_count": 26,
   "metadata": {},
   "outputs": [],
   "source": [
    "def lr_find(model, dataloader,criterion, start = 1e-10, stop = 1):\n",
    "    model = copy.deepcopy(model)\n",
    "    lr_data = {'lr':[],'loss':[]}\n",
    "    steps = len(dataloader)\n",
    "    optimizer = optim.SGD(model.parameters(), lr=start, momentum=0.9)\n",
    "    mult = np.exp(np.log(stop/start)/steps) # multiplicative exponent   \n",
    "    scheduler = torch.optim.lr_scheduler.MultiplicativeLR(optimizer, lambda x: mult)\n",
    "    \n",
    "    for i,(inputs, labels) in enumerate(dataloader):\n",
    "        inputs = inputs.to(device)\n",
    "        labels = labels.to(device)\n",
    "\n",
    "        model.train() \n",
    "        optimizer.zero_grad()\n",
    "        outputs = model(inputs)\n",
    "        loss = criterion(outputs,labels)\n",
    "        loss.backward()\n",
    "        optimizer.step()\n",
    "\n",
    "        lr_data['loss'].append(loss.item())   \n",
    "        for param_group in optimizer.param_groups:\n",
    "            lr_data['lr'].append(param_group['lr'])\n",
    "            \n",
    "        scheduler.step()\n",
    "\n",
    "    return lr_data        "
   ]
  },
  {
   "cell_type": "code",
   "execution_count": 27,
   "metadata": {},
   "outputs": [],
   "source": [
    "criterion = nn.CrossEntropyLoss()\n",
    "lr_data = pd.DataFrame(lr_find(net, train_dl, criterion))"
   ]
  },
  {
   "cell_type": "code",
   "execution_count": 28,
   "metadata": {},
   "outputs": [
    {
     "data": {
      "image/png": "[encoded data removed]",
      "text/plain": [
       "<Figure size 432x288 with 1 Axes>"
      ]
     },
     "metadata": {
      "needs_background": "light"
     },
     "output_type": "display_data"
    }
   ],
   "source": [
    "plt.semilogx(lr_data['lr'].rolling(20).mean(),lr_data['loss'].rolling(20).mean())\n",
    "plt.xlabel('learning rate')\n",
    "plt.ylabel('Loss')\n",
    "plt.show()"
   ]
  },
  {
   "cell_type": "markdown",
   "metadata": {},
   "source": [
    "Good rule of thumb is to pick a point a factor of 10 higher than the minimum. Since the minimum is around $10^{-1}$, a learnig rate of $10^{-2}$ would probably do pretty well. See https://fastai1.fast.ai/callbacks.lr_finder.html"
   ]
  }
 ],
 "metadata": {
  "kernelspec": {
   "display_name": "pytorch",
   "language": "python",
   "name": "pytorch"
  },
  "language_info": {
   "codemirror_mode": {
    "name": "ipython",
    "version": 3
   },
   "file_extension": ".py",
   "mimetype": "text/x-python",
   "name": "python",
   "nbconvert_exporter": "python",
   "pygments_lexer": "ipython3",
   "version": "3.8.5"
  }
 },
 "nbformat": 4,
 "nbformat_minor": 4
}
